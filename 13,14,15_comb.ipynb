{
 "cells": [
  {
   "cell_type": "code",
   "execution_count": 10,
   "id": "4c6a5e72-4f14-4d74-af78-34b722627fb0",
   "metadata": {},
   "outputs": [],
   "source": [
    "import pandas as pd\n",
    "from sklearn.preprocessing import LabelEncoder\n",
    "from sklearn.cluster import KMeans\n",
    "from sklearn.metrics import silhouette_score"
   ]
  },
  {
   "cell_type": "code",
   "execution_count": 19,
   "id": "62a67d4c-4485-4c98-b600-fdad509180e0",
   "metadata": {},
   "outputs": [],
   "source": [
    "df = pd.read_csv(\"/Users/hitesh04/Downloads/DSBD/Iris.csv\")"
   ]
  },
  {
   "cell_type": "code",
   "execution_count": 22,
   "id": "ec842bc3-1e3b-4ca6-ad21-e22db0c11206",
   "metadata": {},
   "outputs": [],
   "source": [
    "\n",
    "# Use only numeric features\n",
    "features = df.drop(columns=[\"Species\"])"
   ]
  },
  {
   "cell_type": "code",
   "execution_count": 25,
   "id": "d5f3b5b3-7570-43ac-8ae0-973fbf2bea37",
   "metadata": {},
   "outputs": [],
   "source": [
    "# Standardize the data\n",
    "scaled = StandardScaler().fit_transform(features)"
   ]
  },
  {
   "cell_type": "code",
   "execution_count": 24,
   "id": "c771aaa3-b6a8-4426-81c6-f0f1a156f11e",
   "metadata": {},
   "outputs": [],
   "source": [
    "# Apply KMeans with k=2\n",
    "kmeans = KMeans(n_clusters=2, random_state=0)\n",
    "labels = kmeans.fit_predict(scaled)"
   ]
  },
  {
   "cell_type": "code",
   "execution_count": 26,
   "id": "afc37605-cef8-429b-96e8-66c2bfa32fbf",
   "metadata": {},
   "outputs": [
    {
     "name": "stdout",
     "output_type": "stream",
     "text": [
      "Silhouette Coefficient: 0.570815210603504\n"
     ]
    }
   ],
   "source": [
    "score = silhouette_score(scaled, labels)\n",
    "\n",
    "print(\"Silhouette Coefficient:\", score)"
   ]
  }
 ],
 "metadata": {
  "kernelspec": {
   "display_name": "Python 3 (ipykernel)",
   "language": "python",
   "name": "python3"
  },
  "language_info": {
   "codemirror_mode": {
    "name": "ipython",
    "version": 3
   },
   "file_extension": ".py",
   "mimetype": "text/x-python",
   "name": "python",
   "nbconvert_exporter": "python",
   "pygments_lexer": "ipython3",
   "version": "3.13.3"
  }
 },
 "nbformat": 4,
 "nbformat_minor": 5
}
