{
 "cells": [
  {
   "cell_type": "code",
   "execution_count": 1,
   "id": "cdc50692-3e15-4562-8be9-55f249d1325a",
   "metadata": {},
   "outputs": [],
   "source": [
    "import pandas as pd\n",
    "from sklearn.model_selection import train_test_split\n",
    "from sklearn.preprocessing import LabelEncoder\n",
    "from sklearn.neighbors import KNeighborsClassifier\n",
    "from sklearn.metrics import accuracy_score"
   ]
  },
  {
   "cell_type": "code",
   "execution_count": 2,
   "id": "4ff49a96-8fe4-4030-bda5-f651cbc38634",
   "metadata": {},
   "outputs": [],
   "source": [
    "df = pd.read_csv(\"/Users/hitesh04/Downloads/DSBD/Iris.csv\")"
   ]
  },
  {
   "cell_type": "code",
   "execution_count": 4,
   "id": "2eb26361-a926-4aae-b5eb-6800c478bb19",
   "metadata": {},
   "outputs": [],
   "source": [
    "# Encode the species column to numeric labels\n",
    "df['Species'] = LabelEncoder().fit_transform(df['Species'])"
   ]
  },
  {
   "cell_type": "code",
   "execution_count": 5,
   "id": "6157bc35-0f4e-40b9-b63a-9da085d69f0c",
   "metadata": {},
   "outputs": [],
   "source": [
    "# Split into features and target\n",
    "X = df.drop('Species', axis=1)\n",
    "y = df['Species']"
   ]
  },
  {
   "cell_type": "code",
   "execution_count": 6,
   "id": "79407de6-cbf6-446a-af5e-5009a7969a38",
   "metadata": {},
   "outputs": [],
   "source": [
    "X_train, X_test, y_train, y_test = train_test_split(X, y, test_size=0.2, random_state=42)"
   ]
  },
  {
   "cell_type": "code",
   "execution_count": 7,
   "id": "10db28dc-4012-481a-a1ad-60c4935e96b3",
   "metadata": {},
   "outputs": [
    {
     "name": "stdout",
     "output_type": "stream",
     "text": [
      "Accuracy with K=3: 100.00%\n"
     ]
    }
   ],
   "source": [
    "# ------------------ K = 3 ------------------\n",
    "knn3 = KNeighborsClassifier(n_neighbors=3)\n",
    "knn3.fit(X_train, y_train)\n",
    "y_pred3 = knn3.predict(X_test)\n",
    "acc3 = accuracy_score(y_test, y_pred3)\n",
    "print(f\"Accuracy with K=3: {acc3 * 100:.2f}%\")"
   ]
  },
  {
   "cell_type": "code",
   "execution_count": 7,
   "id": "2c7230fb-173a-4484-b539-b525d8c68c7c",
   "metadata": {},
   "outputs": [],
   "source": [
    "#similarly change values of k "
   ]
  }
 ],
 "metadata": {
  "kernelspec": {
   "display_name": "Python 3 (ipykernel)",
   "language": "python",
   "name": "python3"
  },
  "language_info": {
   "codemirror_mode": {
    "name": "ipython",
    "version": 3
   },
   "file_extension": ".py",
   "mimetype": "text/x-python",
   "name": "python",
   "nbconvert_exporter": "python",
   "pygments_lexer": "ipython3",
   "version": "3.13.3"
  }
 },
 "nbformat": 4,
 "nbformat_minor": 5
}
