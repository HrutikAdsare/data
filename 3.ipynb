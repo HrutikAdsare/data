{
 "cells": [
  {
   "cell_type": "code",
   "execution_count": 1,
   "id": "90af7e71-fad8-439e-9e72-f6c32866dae8",
   "metadata": {},
   "outputs": [],
   "source": [
    "# Perform the following operations using Python by creating a student performance dataset.\n",
    "# 1.\tDisplay Missing Values\n",
    "# 2.\tReplace missing values using replacement technique\n",
    "# 3.\tIdentify the outlier\n",
    "# 4.\tHandle outlier using any two  technique\n",
    "# 5.\tPerform data normalization using Min Max\n",
    "\n",
    "\n",
    "import pandas as pd \n",
    "import numpy as np\n",
    "import matplotlib.pyplot as plt"
   ]
  },
  {
   "cell_type": "code",
   "execution_count": 3,
   "id": "cfae0dd2-b4ea-47b5-b46e-c49c54b79d05",
   "metadata": {},
   "outputs": [
    {
     "data": {
      "text/html": [
       "<div>\n",
       "<style scoped>\n",
       "    .dataframe tbody tr th:only-of-type {\n",
       "        vertical-align: middle;\n",
       "    }\n",
       "\n",
       "    .dataframe tbody tr th {\n",
       "        vertical-align: top;\n",
       "    }\n",
       "\n",
       "    .dataframe thead th {\n",
       "        text-align: right;\n",
       "    }\n",
       "</style>\n",
       "<table border=\"1\" class=\"dataframe\">\n",
       "  <thead>\n",
       "    <tr style=\"text-align: right;\">\n",
       "      <th></th>\n",
       "      <th>name</th>\n",
       "      <th>maths</th>\n",
       "      <th>science</th>\n",
       "      <th>english</th>\n",
       "    </tr>\n",
       "  </thead>\n",
       "  <tbody>\n",
       "    <tr>\n",
       "      <th>0</th>\n",
       "      <td>A</td>\n",
       "      <td>85.0</td>\n",
       "      <td>88</td>\n",
       "      <td>78.0</td>\n",
       "    </tr>\n",
       "    <tr>\n",
       "      <th>1</th>\n",
       "      <td>B</td>\n",
       "      <td>90.0</td>\n",
       "      <td>95</td>\n",
       "      <td>82.0</td>\n",
       "    </tr>\n",
       "    <tr>\n",
       "      <th>2</th>\n",
       "      <td>C</td>\n",
       "      <td>NaN</td>\n",
       "      <td>89</td>\n",
       "      <td>85.0</td>\n",
       "    </tr>\n",
       "    <tr>\n",
       "      <th>3</th>\n",
       "      <td>D</td>\n",
       "      <td>45.0</td>\n",
       "      <td>30</td>\n",
       "      <td>40.0</td>\n",
       "    </tr>\n",
       "    <tr>\n",
       "      <th>4</th>\n",
       "      <td>E</td>\n",
       "      <td>100.0</td>\n",
       "      <td>105</td>\n",
       "      <td>NaN</td>\n",
       "    </tr>\n",
       "  </tbody>\n",
       "</table>\n",
       "</div>"
      ],
      "text/plain": [
       "  name  maths  science  english\n",
       "0    A   85.0       88     78.0\n",
       "1    B   90.0       95     82.0\n",
       "2    C    NaN       89     85.0\n",
       "3    D   45.0       30     40.0\n",
       "4    E  100.0      105      NaN"
      ]
     },
     "execution_count": 3,
     "metadata": {},
     "output_type": "execute_result"
    }
   ],
   "source": [
    "data={\n",
    "    'name':['A','B','C','D','E'],\n",
    "    'maths':[85,90,np.nan,45,100],\n",
    "    'science':[88,95,89,30,105],\n",
    "    'english':[78,82,85,40,np.nan]\n",
    "}\n",
    "\n",
    "df=pd.DataFrame(data)\n",
    "df"
   ]
  },
  {
   "cell_type": "code",
   "execution_count": 6,
   "id": "d6ed20ff-b6a1-4d7e-ba1b-4192c219eb7d",
   "metadata": {},
   "outputs": [
    {
     "data": {
      "text/plain": [
       "name       0\n",
       "maths      1\n",
       "science    0\n",
       "english    1\n",
       "dtype: int64"
      ]
     },
     "execution_count": 6,
     "metadata": {},
     "output_type": "execute_result"
    }
   ],
   "source": [
    "# 1.Display Missing Values\n",
    "df.isnull().sum()"
   ]
  },
  {
   "cell_type": "code",
   "execution_count": 9,
   "id": "587d7bd9-e5da-4eab-97ff-eb7610210982",
   "metadata": {},
   "outputs": [
    {
     "data": {
      "text/html": [
       "<div>\n",
       "<style scoped>\n",
       "    .dataframe tbody tr th:only-of-type {\n",
       "        vertical-align: middle;\n",
       "    }\n",
       "\n",
       "    .dataframe tbody tr th {\n",
       "        vertical-align: top;\n",
       "    }\n",
       "\n",
       "    .dataframe thead th {\n",
       "        text-align: right;\n",
       "    }\n",
       "</style>\n",
       "<table border=\"1\" class=\"dataframe\">\n",
       "  <thead>\n",
       "    <tr style=\"text-align: right;\">\n",
       "      <th></th>\n",
       "      <th>name</th>\n",
       "      <th>maths</th>\n",
       "      <th>science</th>\n",
       "      <th>english</th>\n",
       "    </tr>\n",
       "  </thead>\n",
       "  <tbody>\n",
       "    <tr>\n",
       "      <th>0</th>\n",
       "      <td>A</td>\n",
       "      <td>85.0</td>\n",
       "      <td>88</td>\n",
       "      <td>78.00</td>\n",
       "    </tr>\n",
       "    <tr>\n",
       "      <th>1</th>\n",
       "      <td>B</td>\n",
       "      <td>90.0</td>\n",
       "      <td>95</td>\n",
       "      <td>82.00</td>\n",
       "    </tr>\n",
       "    <tr>\n",
       "      <th>2</th>\n",
       "      <td>C</td>\n",
       "      <td>80.0</td>\n",
       "      <td>89</td>\n",
       "      <td>85.00</td>\n",
       "    </tr>\n",
       "    <tr>\n",
       "      <th>3</th>\n",
       "      <td>D</td>\n",
       "      <td>45.0</td>\n",
       "      <td>30</td>\n",
       "      <td>40.00</td>\n",
       "    </tr>\n",
       "    <tr>\n",
       "      <th>4</th>\n",
       "      <td>E</td>\n",
       "      <td>100.0</td>\n",
       "      <td>105</td>\n",
       "      <td>71.25</td>\n",
       "    </tr>\n",
       "  </tbody>\n",
       "</table>\n",
       "</div>"
      ],
      "text/plain": [
       "  name  maths  science  english\n",
       "0    A   85.0       88    78.00\n",
       "1    B   90.0       95    82.00\n",
       "2    C   80.0       89    85.00\n",
       "3    D   45.0       30    40.00\n",
       "4    E  100.0      105    71.25"
      ]
     },
     "execution_count": 9,
     "metadata": {},
     "output_type": "execute_result"
    }
   ],
   "source": [
    "# 2.\tReplace missing values using replacement technique\n",
    "df['maths']=df['maths'].fillna(df['maths'].mean())\n",
    "df['english']=df['english'].fillna(df['english'].mean())\n",
    "df"
   ]
  },
  {
   "cell_type": "code",
   "execution_count": 10,
   "id": "3148c6fb-c5e5-4509-a056-56feefee8141",
   "metadata": {},
   "outputs": [
    {
     "data": {
      "image/png": "[encoded data removed]",
      "text/plain": [
       "<Figure size 640x480 with 1 Axes>"
      ]
     },
     "metadata": {},
     "output_type": "display_data"
    }
   ],
   "source": [
    "# 3.\tIdentify the outlier\n",
    "df[['maths','science','english']].plot(kind='box')\n",
    "plt.title('Box plot to detect outliers')\n",
    "plt.show()"
   ]
  },
  {
   "cell_type": "code",
   "execution_count": 13,
   "id": "ddee913b-61f8-4950-90cc-b59ebaa79705",
   "metadata": {},
   "outputs": [
    {
     "name": "stdout",
     "output_type": "stream",
     "text": [
      "Min value in science: 30\n",
      "Max value in science: 100\n"
     ]
    }
   ],
   "source": [
    "# 4.\tHandle outlier using any two  technique\n",
    "# Method 1 Clipping \n",
    "df['science']=df['science'].clip(lower=0,upper=100)\n",
    "print(\"Min value in science:\", df['science'].min())\n",
    "print(\"Max value in science:\", df['science'].max())"
   ]
  },
  {
   "cell_type": "code",
   "execution_count": 18,
   "id": "c654afbc-2612-4d96-a6ea-e07a91c83e92",
   "metadata": {},
   "outputs": [
    {
     "data": {
      "text/html": [
       "<div>\n",
       "<style scoped>\n",
       "    .dataframe tbody tr th:only-of-type {\n",
       "        vertical-align: middle;\n",
       "    }\n",
       "\n",
       "    .dataframe tbody tr th {\n",
       "        vertical-align: top;\n",
       "    }\n",
       "\n",
       "    .dataframe thead th {\n",
       "        text-align: right;\n",
       "    }\n",
       "</style>\n",
       "<table border=\"1\" class=\"dataframe\">\n",
       "  <thead>\n",
       "    <tr style=\"text-align: right;\">\n",
       "      <th></th>\n",
       "      <th>name</th>\n",
       "      <th>maths</th>\n",
       "      <th>science</th>\n",
       "      <th>english</th>\n",
       "    </tr>\n",
       "  </thead>\n",
       "  <tbody>\n",
       "    <tr>\n",
       "      <th>0</th>\n",
       "      <td>A</td>\n",
       "      <td>85.0</td>\n",
       "      <td>88</td>\n",
       "      <td>78.00</td>\n",
       "    </tr>\n",
       "    <tr>\n",
       "      <th>1</th>\n",
       "      <td>B</td>\n",
       "      <td>90.0</td>\n",
       "      <td>95</td>\n",
       "      <td>82.00</td>\n",
       "    </tr>\n",
       "    <tr>\n",
       "      <th>2</th>\n",
       "      <td>C</td>\n",
       "      <td>80.0</td>\n",
       "      <td>89</td>\n",
       "      <td>85.00</td>\n",
       "    </tr>\n",
       "    <tr>\n",
       "      <th>3</th>\n",
       "      <td>D</td>\n",
       "      <td>45.0</td>\n",
       "      <td>30</td>\n",
       "      <td>40.00</td>\n",
       "    </tr>\n",
       "    <tr>\n",
       "      <th>4</th>\n",
       "      <td>E</td>\n",
       "      <td>100.0</td>\n",
       "      <td>100</td>\n",
       "      <td>71.25</td>\n",
       "    </tr>\n",
       "  </tbody>\n",
       "</table>\n",
       "</div>"
      ],
      "text/plain": [
       "  name  maths  science  english\n",
       "0    A   85.0       88    78.00\n",
       "1    B   90.0       95    82.00\n",
       "2    C   80.0       89    85.00\n",
       "3    D   45.0       30    40.00\n",
       "4    E  100.0      100    71.25"
      ]
     },
     "execution_count": 18,
     "metadata": {},
     "output_type": "execute_result"
    }
   ],
   "source": [
    "# 4.\tHandle outlier using any two  technique\n",
    "# Method 2 Z score method \n",
    "from scipy.stats import zscore\n",
    "z_score=np.abs(zscore(df[['maths','english']]))\n",
    "df=df[(z_score<3).all(axis=1)]\n",
    "df"
   ]
  },
  {
   "cell_type": "code",
   "execution_count": null,
   "id": "3450e41f-acb4-4661-abfa-7d3b486702c4",
   "metadata": {},
   "outputs": [],
   "source": [
    "#5.\tPerform data normalization using Min Max\n",
    "\n",
    "df['maths_minmax']=(df['maths']-df['maths'].min())/(df['maths'].max()-df['maths'].min())\n",
    "df['science_minmax']=(df['science']-df['science'].min())/(df['science'].max()-df['science'].min())\n",
    "df['english_minmax']=(df['english']-df['english'].min())/(df['maths'].max()-df['maths'].min())"
   ]
  }
 ],
 "metadata": {
  "kernelspec": {
   "display_name": "Python 3 (ipykernel)",
   "language": "python",
   "name": "python3"
  },
  "language_info": {
   "codemirror_mode": {
    "name": "ipython",
    "version": 3
   },
   "file_extension": ".py",
   "mimetype": "text/x-python",
   "name": "python",
   "nbconvert_exporter": "python",
   "pygments_lexer": "ipython3",
   "version": "3.11.5"
  }
 },
 "nbformat": 4,
 "nbformat_minor": 5
}
