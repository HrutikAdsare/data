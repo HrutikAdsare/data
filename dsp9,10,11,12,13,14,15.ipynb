{
 "cells": [
  {
   "cell_type": "code",
   "execution_count": 2,
   "id": "58aa51aa-9eef-41ad-adbe-38ab6ba10086",
   "metadata": {},
   "outputs": [
    {
     "name": "stdout",
     "output_type": "stream",
     "text": [
      "K=3, Accuracy=0.96, Time=0.0135s\n",
      "K=4, Accuracy=0.96, Time=0.0125s\n",
      "K=5, Accuracy=0.97, Time=0.0152s\n"
     ]
    }
   ],
   "source": [
    "from sklearn.datasets import load_iris\n",
    "from sklearn.neighbors import KNeighborsClassifier\n",
    "from sklearn.metrics import accuracy_score\n",
    "from time import time\n",
    "\n",
    "# Load the Iris dataset\n",
    "iris = load_iris()\n",
    "X = iris.data\n",
    "y = iris.target\n",
    "\n",
    "# Loop through different values of K\n",
    "for k in [3, 4, 5]:\n",
    "    start = time()\n",
    "    knn = KNeighborsClassifier(n_neighbors=k)\n",
    "    knn.fit(X, y)\n",
    "    preds = knn.predict(X)\n",
    "    acc = accuracy_score(y, preds)\n",
    "    print(f\"K={k}, Accuracy={acc:.2f}, Time={time() - start:.4f}s\")\n"
   ]
  },
  {
   "cell_type": "code",
   "execution_count": 1,
   "id": "f47164aa-a160-47aa-bb37-e64a2a044dd5",
   "metadata": {},
   "outputs": [
    {
     "name": "stdout",
     "output_type": "stream",
     "text": [
      "K=1, Accuracy=1.00, Time=0.0166s\n",
      "K=2, Accuracy=0.98, Time=0.0086s\n",
      "K=3, Accuracy=0.96, Time=0.0109s\n",
      "K=4, Accuracy=0.96, Time=0.0101s\n",
      "K=5, Accuracy=0.97, Time=0.0063s\n",
      "K=6, Accuracy=0.97, Time=0.0090s\n",
      "K=7, Accuracy=0.97, Time=0.0093s\n",
      "K=8, Accuracy=0.98, Time=0.0096s\n",
      "K=9, Accuracy=0.98, Time=0.0110s\n",
      "K=10, Accuracy=0.98, Time=0.0103s\n"
     ]
    },
    {
     "data": {
      "image/png": "[encoded data removed]",
      "text/plain": [
       "<Figure size 640x480 with 1 Axes>"
      ]
     },
     "metadata": {},
     "output_type": "display_data"
    }
   ],
   "source": [
    "from sklearn.datasets import load_iris\n",
    "from sklearn.neighbors import KNeighborsClassifier\n",
    "from sklearn.metrics import accuracy_score\n",
    "import matplotlib.pyplot as plt\n",
    "from time import time\n",
    "\n",
    "# Load data\n",
    "X, y = load_iris(return_X_y=True)\n",
    "\n",
    "accuracies, times = [], []\n",
    "\n",
    "# Try K from 1 to 10\n",
    "for k in range(1, 11):\n",
    "    start = time()\n",
    "    model = KNeighborsClassifier(k).fit(X, y)\n",
    "    acc = accuracy_score(y, model.predict(X))\n",
    "    accuracies.append(acc)\n",
    "    times.append(time() - start)\n",
    "    print(f\"K={k}, Accuracy={acc:.2f}, Time={times[-1]:.4f}s\")\n",
    "\n",
    "# Plot Elbow Curve\n",
    "plt.plot(range(1, 11), accuracies, marker='o')\n",
    "plt.xlabel(\"K\")\n",
    "plt.ylabel(\"Accuracy\")\n",
    "plt.title(\"Elbow Method for KNN\")\n",
    "plt.show()\n"
   ]
  },
  {
   "cell_type": "code",
   "execution_count": 4,
   "id": "7ec391f4-b13c-4ec6-a376-a55023aa1e42",
   "metadata": {},
   "outputs": [
    {
     "name": "stdout",
     "output_type": "stream",
     "text": [
      "Confusion Matrix:\n",
      " [[19  0  0]\n",
      " [ 0 13  0]\n",
      " [ 0  0 13]]\n",
      "Accuracy: 1.0\n",
      "Error Rate: 0.0\n",
      "Classification Report:\n",
      "               precision    recall  f1-score   support\n",
      "\n",
      "           0       1.00      1.00      1.00        19\n",
      "           1       1.00      1.00      1.00        13\n",
      "           2       1.00      1.00      1.00        13\n",
      "\n",
      "    accuracy                           1.00        45\n",
      "   macro avg       1.00      1.00      1.00        45\n",
      "weighted avg       1.00      1.00      1.00        45\n",
      "\n"
     ]
    }
   ],
   "source": [
    "from sklearn.datasets import load_iris\n",
    "from sklearn.model_selection import train_test_split\n",
    "from sklearn.neighbors import KNeighborsClassifier\n",
    "from sklearn.metrics import confusion_matrix, classification_report, accuracy_score\n",
    "\n",
    "# Load dataset\n",
    "X, y = load_iris(return_X_y=True)\n",
    "X_train, X_test, y_train, y_test = train_test_split(X, y, test_size=0.3, random_state=42)\n",
    "\n",
    "# Train KNN\n",
    "model = KNeighborsClassifier(n_neighbors=3)\n",
    "model.fit(X_train, y_train)\n",
    "\n",
    "# Predict and evaluate\n",
    "y_pred = model.predict(X_test)\n",
    "cm = confusion_matrix(y_test, y_pred)\n",
    "print(\"Confusion Matrix:\\n\", cm)\n",
    "\n",
    "# Accuracy and Report\n",
    "print(\"Accuracy:\", accuracy_score(y_test, y_pred))\n",
    "print(\"Error Rate:\", 1 - accuracy_score(y_test, y_pred))\n",
    "print(\"Classification Report:\\n\", classification_report(y_test, y_pred))\n"
   ]
  },
  {
   "cell_type": "code",
   "execution_count": 5,
   "id": "a0d410c5-df1a-4b0f-a97b-6219f8134c7b",
   "metadata": {},
   "outputs": [
    {
     "name": "stdout",
     "output_type": "stream",
     "text": [
      "Accuracy for each fold: [0.96666667 0.96666667 0.93333333 0.96666667 1.        ]\n",
      "Average Accuracy: 0.9666666666666668\n"
     ]
    }
   ],
   "source": [
    "from sklearn.datasets import load_iris\n",
    "from sklearn.neighbors import KNeighborsClassifier\n",
    "from sklearn.model_selection import cross_val_score\n",
    "\n",
    "# Load iris dataset\n",
    "X, y = load_iris(return_X_y=True)\n",
    "\n",
    "# Create KNN model with k=3\n",
    "model = KNeighborsClassifier(n_neighbors=3)\n",
    "\n",
    "# Perform 5-fold cross-validation\n",
    "scores = cross_val_score(model, X, y, cv=5)\n",
    "\n",
    "# Display accuracy for each fold and mean accuracy\n",
    "print(\"Accuracy for each fold:\", scores)\n",
    "print(\"Average Accuracy:\", scores.mean())\n"
   ]
  },
  {
   "cell_type": "code",
   "execution_count": 6,
   "id": "6cb8191e-3ba4-44c6-8d9b-a2614df1ef94",
   "metadata": {},
   "outputs": [
    {
     "name": "stdout",
     "output_type": "stream",
     "text": [
      "Cluster Centers:\n",
      " [[6.30103093 2.88659794 4.95876289 1.69587629]\n",
      " [5.00566038 3.36981132 1.56037736 0.29056604]]\n",
      "Labels (Cluster assignment for each sample):\n",
      " [1 1 1 1 1 1 1 1 1 1 1 1 1 1 1 1 1 1 1 1 1 1 1 1 1 1 1 1 1 1 1 1 1 1 1 1 1\n",
      " 1 1 1 1 1 1 1 1 1 1 1 1 1 0 0 0 0 0 0 0 1 0 0 0 0 0 0 0 0 0 0 0 0 0 0 0 0\n",
      " 0 0 0 0 0 0 0 0 0 0 0 0 0 0 0 0 0 0 0 1 0 0 0 0 1 0 0 0 0 0 0 0 0 0 0 0 0\n",
      " 0 0 0 0 0 0 0 0 0 0 0 0 0 0 0 0 0 0 0 0 0 0 0 0 0 0 0 0 0 0 0 0 0 0 0 0 0\n",
      " 0 0]\n"
     ]
    }
   ],
   "source": [
    "from sklearn.datasets import load_iris\n",
    "from sklearn.cluster import KMeans\n",
    "import pandas as pd\n",
    "\n",
    "# Load the iris dataset\n",
    "iris = load_iris()\n",
    "X = iris.data\n",
    "\n",
    "# Apply K-Means with K=2\n",
    "kmeans = KMeans(n_clusters=2, random_state=42)\n",
    "kmeans.fit(X)\n",
    "\n",
    "# Display results\n",
    "print(\"Cluster Centers:\\n\", kmeans.cluster_centers_)\n",
    "print(\"Labels (Cluster assignment for each sample):\\n\", kmeans.labels_)\n"
   ]
  },
  {
   "cell_type": "code",
   "execution_count": 7,
   "id": "b3bbb24d-42d9-4b7c-8a69-2883726f6f19",
   "metadata": {},
   "outputs": [
    {
     "name": "stdout",
     "output_type": "stream",
     "text": [
      "Cluster Centers:\n",
      " [[6.30103093 2.88659794 4.95876289 1.69587629]\n",
      " [5.00566038 3.36981132 1.56037736 0.29056604]]\n",
      "Silhouette Coefficient: 0.681\n"
     ]
    }
   ],
   "source": [
    "from sklearn.datasets import load_iris\n",
    "from sklearn.cluster import KMeans\n",
    "from sklearn.metrics import silhouette_score\n",
    "\n",
    "# Load dataset\n",
    "iris = load_iris()\n",
    "X = iris.data\n",
    "\n",
    "# K-Means clustering with K=2\n",
    "kmeans = KMeans(n_clusters=2, random_state=42)\n",
    "kmeans.fit(X)\n",
    "\n",
    "# Get cluster labels\n",
    "labels = kmeans.labels_\n",
    "\n",
    "# Silhouette Coefficient\n",
    "sil_score = silhouette_score(X, labels)\n",
    "\n",
    "# Output\n",
    "print(\"Cluster Centers:\\n\", kmeans.cluster_centers_)\n",
    "print(\"Silhouette Coefficient:\", round(sil_score, 3))\n"
   ]
  },
  {
   "cell_type": "code",
   "execution_count": 8,
   "id": "a7318eda-3e52-462f-aa05-af0a137e76c2",
   "metadata": {},
   "outputs": [
    {
     "name": "stdout",
     "output_type": "stream",
     "text": [
      "K=2 -> Silhouette Coefficient: 0.681\n",
      "K=3 -> Silhouette Coefficient: 0.551\n"
     ]
    }
   ],
   "source": [
    "from sklearn.datasets import load_iris\n",
    "from sklearn.cluster import KMeans\n",
    "from sklearn.metrics import silhouette_score\n",
    "\n",
    "# Load Iris dataset\n",
    "iris = load_iris()\n",
    "X = iris.data\n",
    "\n",
    "for k in [2, 3]:\n",
    "    # Initialize and fit KMeans\n",
    "    kmeans = KMeans(n_clusters=k, random_state=42)\n",
    "    labels = kmeans.fit_predict(X)\n",
    "    \n",
    "    # Calculate Silhouette Coefficient\n",
    "    sil_score = silhouette_score(X, labels)\n",
    "    \n",
    "    print(f\"K={k} -> Silhouette Coefficient: {sil_score:.3f}\")\n"
   ]
  },
  {
   "cell_type": "code",
   "execution_count": null,
   "id": "19dbb41f-00d3-4e36-940e-0dd5379537f5",
   "metadata": {},
   "outputs": [],
   "source": []
  }
 ],
 "metadata": {
  "kernelspec": {
   "display_name": "Python 3 (ipykernel)",
   "language": "python",
   "name": "python3"
  },
  "language_info": {
   "codemirror_mode": {
    "name": "ipython",
    "version": 3
   },
   "file_extension": ".py",
   "mimetype": "text/x-python",
   "name": "python",
   "nbconvert_exporter": "python",
   "pygments_lexer": "ipython3",
   "version": "3.13.2"
  }
 },
 "nbformat": 4,
 "nbformat_minor": 5
}
