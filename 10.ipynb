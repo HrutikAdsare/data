{
 "cells": [
  {
   "cell_type": "code",
   "execution_count": 1,
   "id": "a802ae83-49f9-4241-a435-a3acab8dc250",
   "metadata": {},
   "outputs": [],
   "source": [
    "import pandas as pd\n",
    "from sklearn.model_selection import train_test_split\n",
    "from sklearn.preprocessing import LabelEncoder\n",
    "from sklearn.neighbors import KNeighborsClassifier\n",
    "from sklearn.metrics import accuracy_score\n",
    "import matplotlib.pyplot as plt\n",
    "import time"
   ]
  },
  {
   "cell_type": "code",
   "execution_count": 2,
   "id": "4f7933e8-cf5d-4282-a339-1562f12b5858",
   "metadata": {},
   "outputs": [],
   "source": [
    "df = pd.read_csv(\"/Users/hitesh04/Downloads/DSBD/Iris.csv\")\n",
    "df['Species'] = LabelEncoder().fit_transform(df['Species'])\n",
    "X = df.drop('Species', axis=1)\n",
    "y = df['Species']"
   ]
  },
  {
   "cell_type": "code",
   "execution_count": 3,
   "id": "4da1891f-34da-4de6-94f8-993d6f9a13d0",
   "metadata": {},
   "outputs": [],
   "source": [
    "X_train, X_test, y_train, y_test = train_test_split(X, y, test_size=0.2, random_state=42)"
   ]
  },
  {
   "cell_type": "code",
   "execution_count": 4,
   "id": "91852668-fcc3-425c-abca-20f70f0a309c",
   "metadata": {},
   "outputs": [],
   "source": [
    "accuracies = []\n",
    "k_range = range(1, 11)"
   ]
  },
  {
   "cell_type": "code",
   "execution_count": 5,
   "id": "fc2c8d0d-8206-4a21-87d2-2d21eb461615",
   "metadata": {},
   "outputs": [],
   "source": [
    "\n",
    "for k in k_range:\n",
    "    model = KNeighborsClassifier(n_neighbors=k)\n",
    "    model.fit(X_train, y_train)\n",
    "    pred = model.predict(X_test)\n",
    "    acc = accuracy_score(y_test, pred)\n",
    "    accuracies.append(acc)"
   ]
  },
  {
   "cell_type": "code",
   "execution_count": 6,
   "id": "814b1048-6dd6-46c0-9c5d-7e53f038befc",
   "metadata": {},
   "outputs": [
    {
     "data": {
      "image/png": "[encoded data removed]",
      "text/plain": [
       "<Figure size 640x480 with 1 Axes>"
      ]
     },
     "metadata": {},
     "output_type": "display_data"
    }
   ],
   "source": [
    "plt.plot(k_range, accuracies, marker='o')\n",
    "plt.title('Elbow Method - K vs Accuracy')\n",
    "plt.xlabel('K')\n",
    "plt.ylabel('Accuracy')\n",
    "plt.grid()\n",
    "plt.show()"
   ]
  },
  {
   "cell_type": "code",
   "execution_count": 7,
   "id": "d36ff762-059b-4086-80cc-92368524a6b8",
   "metadata": {},
   "outputs": [],
   "source": [
    "best_k = accuracies.index(max(accuracies)) + 1"
   ]
  },
  {
   "cell_type": "code",
   "execution_count": 8,
   "id": "c278c7c8-40f1-44a6-b7a1-a719cdbd5205",
   "metadata": {},
   "outputs": [],
   "source": [
    "start = time.time()\n",
    "final_model = KNeighborsClassifier(n_neighbors=best_k)\n",
    "final_model.fit(X_train, y_train)\n",
    "final_acc = accuracy_score(y_test, final_model.predict(X_test))\n",
    "end = time.time()\n"
   ]
  },
  {
   "cell_type": "code",
   "execution_count": 9,
   "id": "62db79a0-f9a7-46e4-9989-5596a1fed713",
   "metadata": {},
   "outputs": [
    {
     "name": "stdout",
     "output_type": "stream",
     "text": [
      "Best K: 1\n",
      "Accuracy with K = 1 is 1.0\n",
      "Time taken to build model: 0.0101 seconds\n"
     ]
    }
   ],
   "source": [
    "print(\"Best K:\", best_k)\n",
    "print(\"Accuracy with K =\", best_k, \"is\", round(final_acc, 2))\n",
    "print(\"Time taken to build model:\", round(end - start, 4), \"seconds\")"
   ]
  },
  {
   "cell_type": "code",
   "execution_count": null,
   "id": "e7a3ba00-f507-49c3-b13e-71cde06d813b",
   "metadata": {},
   "outputs": [],
   "source": []
  }
 ],
 "metadata": {
  "kernelspec": {
   "display_name": "Python 3 (ipykernel)",
   "language": "python",
   "name": "python3"
  },
  "language_info": {
   "codemirror_mode": {
    "name": "ipython",
    "version": 3
   },
   "file_extension": ".py",
   "mimetype": "text/x-python",
   "name": "python",
   "nbconvert_exporter": "python",
   "pygments_lexer": "ipython3",
   "version": "3.13.3"
  }
 },
 "nbformat": 4,
 "nbformat_minor": 5
}
