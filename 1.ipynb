{
 "cells": [
  {
   "cell_type": "code",
   "execution_count": 2,
   "id": "1a1cfe36-6283-42e9-9331-2cc44ef69cc3",
   "metadata": {},
   "outputs": [],
   "source": [
    "import pandas as pd\n"
   ]
  },
  {
   "cell_type": "code",
   "execution_count": 3,
   "id": "0c28afa1-72d6-4e70-b5aa-43833a834e52",
   "metadata": {},
   "outputs": [],
   "source": [
    "df = pd.read_csv(\"/Users/hitesh04/Downloads/Iris.csv\")\n"
   ]
  },
  {
   "cell_type": "code",
   "execution_count": 4,
   "id": "b12462d2-722d-4765-83d9-5f267f5d209d",
   "metadata": {},
   "outputs": [
    {
     "name": "stdout",
     "output_type": "stream",
     "text": [
      "Missing values detection\n"
     ]
    }
   ],
   "source": [
    "print(\"Missing values detection\")\n"
   ]
  },
  {
   "cell_type": "code",
   "execution_count": 5,
   "id": "c1999f5f-3899-42e6-862a-8808c8425be8",
   "metadata": {},
   "outputs": [
    {
     "name": "stdout",
     "output_type": "stream",
     "text": [
      "Id               0\n",
      "SepalLengthCm    0\n",
      "SepalWidthCm     0\n",
      "PetalLengthCm    0\n",
      "PetalWidthCm     0\n",
      "Species          0\n",
      "dtype: int64 \n",
      "\n"
     ]
    }
   ],
   "source": [
    "print(df.isnull().sum(),\"\\n\")"
   ]
  },
  {
   "cell_type": "code",
   "execution_count": 6,
   "id": "6d06ef3d-f0cc-4ecf-8e62-8cccd384cb08",
   "metadata": {},
   "outputs": [
    {
     "name": "stdout",
     "output_type": "stream",
     "text": [
      "statistics\n"
     ]
    }
   ],
   "source": [
    "print(\"statistics\")"
   ]
  },
  {
   "cell_type": "code",
   "execution_count": 7,
   "id": "191768dc-de93-4fd8-b3f6-b61be00eabb9",
   "metadata": {},
   "outputs": [
    {
     "name": "stdout",
     "output_type": "stream",
     "text": [
      "                Id  SepalLengthCm  SepalWidthCm  PetalLengthCm  PetalWidthCm  \\\n",
      "count   150.000000     150.000000    150.000000     150.000000    150.000000   \n",
      "unique         NaN            NaN           NaN            NaN           NaN   \n",
      "top            NaN            NaN           NaN            NaN           NaN   \n",
      "freq           NaN            NaN           NaN            NaN           NaN   \n",
      "mean     75.500000       5.843333      3.054000       3.758667      1.198667   \n",
      "std      43.445368       0.828066      0.433594       1.764420      0.763161   \n",
      "min       1.000000       4.300000      2.000000       1.000000      0.100000   \n",
      "25%      38.250000       5.100000      2.800000       1.600000      0.300000   \n",
      "50%      75.500000       5.800000      3.000000       4.350000      1.300000   \n",
      "75%     112.750000       6.400000      3.300000       5.100000      1.800000   \n",
      "max     150.000000       7.900000      4.400000       6.900000      2.500000   \n",
      "\n",
      "            Species  \n",
      "count           150  \n",
      "unique            3  \n",
      "top     Iris-setosa  \n",
      "freq             50  \n",
      "mean            NaN  \n",
      "std             NaN  \n",
      "min             NaN  \n",
      "25%             NaN  \n",
      "50%             NaN  \n",
      "75%             NaN  \n",
      "max             NaN   \n",
      "\n"
     ]
    }
   ],
   "source": [
    "print(df.describe(include='all'),\"\\n\")"
   ]
  },
  {
   "cell_type": "code",
   "execution_count": 8,
   "id": "6ea979af-1cb0-45b2-a495-85c967546768",
   "metadata": {},
   "outputs": [
    {
     "name": "stdout",
     "output_type": "stream",
     "text": [
      "dimension\n",
      "(150, 6) \n",
      "\n"
     ]
    }
   ],
   "source": [
    "print(\"dimension\")\n",
    "print(df.shape,\"\\n\")\n"
   ]
  },
  {
   "cell_type": "code",
   "execution_count": 9,
   "id": "13704d97-a58c-4c15-a557-906771124de0",
   "metadata": {},
   "outputs": [
    {
     "name": "stdout",
     "output_type": "stream",
     "text": [
      "datatypes\n",
      "Id                 int64\n",
      "SepalLengthCm    float64\n",
      "SepalWidthCm     float64\n",
      "PetalLengthCm    float64\n",
      "PetalWidthCm     float64\n",
      "Species           object\n",
      "dtype: object\n"
     ]
    }
   ],
   "source": [
    "print(\"datatypes\")\n",
    "print(df.dtypes)\n"
   ]
  },
  {
   "cell_type": "code",
   "execution_count": 12,
   "id": "c9bf7810-99d6-4468-834f-9dcdf463d495",
   "metadata": {},
   "outputs": [],
   "source": [
    "df['Species'] = df['Species'].astype('category')"
   ]
  },
  {
   "cell_type": "code",
   "execution_count": 13,
   "id": "208f8ed1-3299-4bd6-93d5-3df3302dd32d",
   "metadata": {},
   "outputs": [],
   "source": [
    "df['Species_label'] = df['Species'].cat.codes\n"
   ]
  },
  {
   "cell_type": "code",
   "execution_count": 14,
   "id": "3afa018e-11d1-4479-a0ca-01e6fcfe8fb1",
   "metadata": {},
   "outputs": [
    {
     "name": "stdout",
     "output_type": "stream",
     "text": [
      "       Species  Species_label\n",
      "0  Iris-setosa              0\n",
      "1  Iris-setosa              0\n",
      "2  Iris-setosa              0\n",
      "3  Iris-setosa              0\n",
      "4  Iris-setosa              0\n"
     ]
    }
   ],
   "source": [
    "print(df[['Species', 'Species_label']].head())\n"
   ]
  },
  {
   "cell_type": "code",
   "execution_count": 15,
   "id": "4d3a530c-3169-4c30-b5e5-ca26705bce7c",
   "metadata": {},
   "outputs": [],
   "source": [
    "df_one_hot = pd.get_dummies(df,columns=['Species'])"
   ]
  },
  {
   "cell_type": "code",
   "execution_count": 16,
   "id": "90e59de4-612f-481f-9d35-e7eda2831b1f",
   "metadata": {},
   "outputs": [
    {
     "name": "stdout",
     "output_type": "stream",
     "text": [
      "   Id  SepalLengthCm  SepalWidthCm  PetalLengthCm  PetalWidthCm  \\\n",
      "0   1            5.1           3.5            1.4           0.2   \n",
      "1   2            4.9           3.0            1.4           0.2   \n",
      "2   3            4.7           3.2            1.3           0.2   \n",
      "3   4            4.6           3.1            1.5           0.2   \n",
      "4   5            5.0           3.6            1.4           0.2   \n",
      "\n",
      "   Species_label  Species_Iris-setosa  Species_Iris-versicolor  \\\n",
      "0              0                 True                    False   \n",
      "1              0                 True                    False   \n",
      "2              0                 True                    False   \n",
      "3              0                 True                    False   \n",
      "4              0                 True                    False   \n",
      "\n",
      "   Species_Iris-virginica  \n",
      "0                   False  \n",
      "1                   False  \n",
      "2                   False  \n",
      "3                   False  \n",
      "4                   False  \n"
     ]
    }
   ],
   "source": [
    "print(df_one_hot.head())"
   ]
  },
  {
   "cell_type": "code",
   "execution_count": 17,
   "id": "42cc8c11-0ffa-4963-8ef4-25b285357f96",
   "metadata": {},
   "outputs": [
    {
     "name": "stdout",
     "output_type": "stream",
     "text": [
      "       Species  Species_label\n",
      "0  Iris-setosa              0\n",
      "1  Iris-setosa              0\n",
      "2  Iris-setosa              0\n",
      "3  Iris-setosa              0\n",
      "4  Iris-setosa              0 \n",
      "\n"
     ]
    }
   ],
   "source": [
    "#label encoding\n",
    "print(df[['Species','Species_label']].head(),\"\\n\")"
   ]
  },
  {
   "cell_type": "code",
   "execution_count": null,
   "id": "f3ebbc16-7041-4ad6-8a6f-0cdcb8c839a3",
   "metadata": {},
   "outputs": [],
   "source": []
  }
 ],
 "metadata": {
  "kernelspec": {
   "display_name": "Python 3 (ipykernel)",
   "language": "python",
   "name": "python3"
  },
  "language_info": {
   "codemirror_mode": {
    "name": "ipython",
    "version": 3
   },
   "file_extension": ".py",
   "mimetype": "text/x-python",
   "name": "python",
   "nbconvert_exporter": "python",
   "pygments_lexer": "ipython3",
   "version": "3.10.16"
  }
 },
 "nbformat": 4,
 "nbformat_minor": 5
}
